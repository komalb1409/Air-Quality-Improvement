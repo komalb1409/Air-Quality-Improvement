{
 "cells": [
  {
   "cell_type": "code",
   "execution_count": 1,
   "metadata": {},
   "outputs": [],
   "source": [
    "import pandas as pd"
   ]
  },
  {
   "cell_type": "code",
   "execution_count": 2,
   "metadata": {},
   "outputs": [],
   "source": [
    "data = pd.read_csv(\"APTI_Values.csv\")"
   ]
  },
  {
   "cell_type": "code",
   "execution_count": 3,
   "metadata": {},
   "outputs": [
    {
     "name": "stdout",
     "output_type": "stream",
     "text": [
      "       Year    Area Found                       Plant Species   APTI\n",
      "0    2008.0  Vishakapatnam           Ficus religiosa (Peepal)  25.77\n",
      "1       NaN            NaN           Zizypus jujube (Jujube)   22.32\n",
      "2       NaN            NaN      Phyllanthus\\r emblica (Amla )  18.88\n",
      "3       NaN            NaN   Cassia fistula (Indian laburnum)  18.69\n",
      "4       NaN            NaN     Tamarindus\\r indica (Tamarind)  16.24\n",
      "..      ...            ...                                ...    ...\n",
      "130  2017.0  Uttar Pradesh                    Ficus Religiosa  10.00\n",
      "131     NaN            NaN                      Delonix Regia  11.00\n",
      "132     NaN            NaN               PolyalthiaLongifolia   6.00\n",
      "133     NaN            NaN                     Plumeria\\r sp.  11.00\n",
      "134     NaN            NaN                 Azadirachta Indica   9.00\n",
      "\n",
      "[135 rows x 4 columns]\n"
     ]
    }
   ],
   "source": [
    "print(data)"
   ]
  },
  {
   "cell_type": "code",
   "execution_count": 4,
   "metadata": {},
   "outputs": [],
   "source": [
    "import numpy as np\n",
    "import pandas as pd\n",
    "from matplotlib import pyplot as plt\n",
    "from sklearn.datasets.samples_generator import make_blobs\n",
    "from sklearn.cluster import KMeans"
   ]
  },
  {
   "cell_type": "code",
   "execution_count": 5,
   "metadata": {},
   "outputs": [],
   "source": [
    "x = data.iloc[:, [3]].values"
   ]
  },
  {
   "cell_type": "code",
   "execution_count": 6,
   "metadata": {},
   "outputs": [
    {
     "name": "stdout",
     "output_type": "stream",
     "text": [
      "[3 3 0 0 0 0 0 4 4 4 4 4 4 4 4 4 4 1 1 1 1 1 1 0 0 0 0 3 3 0 0 3 3 0 4 3 3\n",
      " 3 0 4 0 0 3 0 3 0 3 0 4 0 3 0 4 0 0 3 0 4 3 4 3 3 0 0 4 4 4 4 4 1 1 1 1 3\n",
      " 3 3 4 3 3 0 0 3 3 3 3 1 1 1 1 1 1 1 1 1 1 1 1 1 1 1 3 4 1 4 1 3 4 0 1 0 0\n",
      " 1 1 4 4 4 4 4 4 1 4 3 2 2 2 2 2 2 2 2 4 4 1 4 1]\n"
     ]
    }
   ],
   "source": [
    "kmeans5 = KMeans(n_clusters=5)\n",
    "y_kmeans5 = kmeans5.fit_predict(x)\n",
    "print(y_kmeans5)"
   ]
  },
  {
   "cell_type": "code",
   "execution_count": 7,
   "metadata": {},
   "outputs": [
    {
     "data": {
      "text/plain": [
       "array([[18.053     ],\n",
       "       [ 6.7942293 ],\n",
       "       [49.12      ],\n",
       "       [24.61448276],\n",
       "       [12.40714286]])"
      ]
     },
     "execution_count": 7,
     "metadata": {},
     "output_type": "execute_result"
    }
   ],
   "source": [
    "kmeans5.cluster_centers_"
   ]
  },
  {
   "cell_type": "code",
   "execution_count": 8,
   "metadata": {},
   "outputs": [
    {
     "data": {
      "image/png": "[encoded data removed]",
      "text/plain": [
       "<Figure size 432x288 with 1 Axes>"
      ]
     },
     "metadata": {
      "needs_background": "light"
     },
     "output_type": "display_data"
    }
   ],
   "source": [
    "Error =[]\n",
    "for i in range(1, 11):\n",
    "    kmeans = KMeans(n_clusters = i).fit(x)\n",
    "    kmeans.fit(x)\n",
    "    Error.append(kmeans.inertia_)\n",
    "import matplotlib.pyplot as plt\n",
    "plt.plot(range(1, 11), Error)\n",
    "plt.title('Elbow method')\n",
    "plt.xlabel('No of clusters')\n",
    "plt.ylabel('Error')\n",
    "plt.show()"
   ]
  },
  {
   "cell_type": "code",
   "execution_count": 9,
   "metadata": {},
   "outputs": [
    {
     "name": "stdout",
     "output_type": "stream",
     "text": [
      "[0 0 0 0 0 0 1 1 1 1 1 1 1 1 1 1 1 1 1 1 1 1 1 0 0 0 0 0 0 0 0 0 0 0 1 0 0\n",
      " 0 0 1 0 0 0 0 0 0 0 0 1 0 0 0 1 0 0 0 0 1 0 1 0 0 0 0 1 1 1 1 1 1 1 1 1 0\n",
      " 0 0 1 0 0 0 0 0 0 0 0 1 1 1 1 1 1 1 1 1 1 1 1 1 1 1 0 1 1 1 1 0 1 0 1 0 1\n",
      " 1 1 1 1 1 1 1 1 1 1 2 2 2 2 2 2 2 2 2 1 1 1 1 1]\n"
     ]
    },
    {
     "data": {
      "text/plain": [
       "array([[21.23571429],\n",
       "       [ 9.84742239],\n",
       "       [47.59      ]])"
      ]
     },
     "execution_count": 9,
     "metadata": {},
     "output_type": "execute_result"
    }
   ],
   "source": [
    "\n",
    "kmeans3 = KMeans(n_clusters=3)\n",
    "y_kmeans3 = kmeans3.fit_predict(x)\n",
    "print(y_kmeans3)\n",
    "\n",
    "kmeans3.cluster_centers_"
   ]
  },
  {
   "cell_type": "code",
   "execution_count": 52,
   "metadata": {},
   "outputs": [
    {
     "data": {
      "image/png": "[encoded data removed]",
      "text/plain": [
       "<Figure size 432x288 with 1 Axes>"
      ]
     },
     "metadata": {
      "needs_background": "light"
     },
     "output_type": "display_data"
    }
   ],
   "source": [
    "\n",
    "#f,ax=plt.subplots(figsize=(20,5))\n",
    "#ax.set_xticklabels('Plant Species', rotation=90)\n",
    "plt.scatter(x[:, 0],x[:, -1],s=100, c=y_kmeans3, cmap='rainbow')\n",
    "    \n",
    "plt.scatter(kmeans3.cluster_centers_[:, 0], kmeans3.cluster_centers_[:, 0], c='black', marker='x')\n",
    "    \n",
    "plt.title('Data points and cluster centroids')\n",
    "plt.show()"
   ]
  },
  {
   "cell_type": "code",
   "execution_count": 84,
   "metadata": {},
   "outputs": [],
   "source": [
    "pf = pd.read_csv(\"india-air-quality-data2.csv\",  engine = 'python' , encoding = 'unicode_escape')"
   ]
  },
  {
   "cell_type": "code",
   "execution_count": 62,
   "metadata": {},
   "outputs": [],
   "source": [
    "pf['date'] = pd.to_datetime(pf['date'])\n",
    "pf=pf.fillna(0)"
   ]
  },
  {
   "cell_type": "code",
   "execution_count": 91,
   "metadata": {},
   "outputs": [
    {
     "name": "stdout",
     "output_type": "stream",
     "text": [
      "143.56045454545455\n"
     ]
    }
   ],
   "source": [
    "import numpy as np\n",
    "import matplotlib.pyplot as plt\n",
    "import matplotlib.patches as mpatches\n",
    "pf=pd.read_csv(\"india-air-quality-data2.csv\", encoding= 'unicode_escape')\n",
    "pf=pf.fillna(0)\n",
    "\n",
    "pf['date'] = pd.to_datetime(pf['date'])\n",
    "pf=pf.fillna(0)\n",
    "af1=pf[pf['state']=='Andhra Pradesh'].loc[(pf['date'].dt.year==2008)]['AQI'].agg('mean')\n",
    "print(af1)"
   ]
  },
  {
   "cell_type": "code",
   "execution_count": 93,
   "metadata": {},
   "outputs": [
    {
     "name": "stdout",
     "output_type": "stream",
     "text": [
      "115.98042309265861\n",
      "133.4055048543689\n",
      "117.93817204301075\n",
      "114.34552244464665\n",
      "70.4748113626276\n",
      "nan\n"
     ]
    }
   ],
   "source": [
    "af2=pf[pf['state']=='Odisha'].loc[(pf['date'].dt.year==2010)]['AQI'].agg('mean')\n",
    "print(af2)\n",
    "af3=pf[pf['state']=='Uttar Pradesh'].loc[(pf['date'].dt.year==2011)]['AQI'].agg('mean')\n",
    "print(af3)\n",
    "af4=pf[pf['location']=='Udaipur'].loc[(pf['date'].dt.year==2013)]['AQI'].agg('mean')\n",
    "print(af4)\n",
    "af5=pf[pf['state']=='Maharashtra'].loc[(pf['date'].dt.year==2015)]['AQI'].agg('mean')\n",
    "print(af5)\n",
    "af6=pf[pf['state']=='Tamil Nadu'].loc[(pf['date'].dt.year==2015)]['AQI'].agg('mean')\n",
    "print(af6)\n",
    "af7=pf[pf['state']=='Delhi'].loc[(pf['date'].dt.year==2016)]['AQI'].agg('mean')\n",
    "print(af7)"
   ]
  },
  {
   "cell_type": "code",
   "execution_count": 102,
   "metadata": {},
   "outputs": [],
   "source": [
    "aqilist = [af1,af2,af3,af4,af5,af6]"
   ]
  },
  {
   "cell_type": "code",
   "execution_count": 110,
   "metadata": {},
   "outputs": [],
   "source": [
    "data3 = pd.read_csv(\"shaheed-sukhdev college of business studies, rohini, delhi-air-quality.csv\", engine = 'python' , encoding = 'unicode_escape')"
   ]
  },
  {
   "cell_type": "code",
   "execution_count": 125,
   "metadata": {},
   "outputs": [],
   "source": [
    "ulist = [5.007624,\n",
    "3.898751,\n",
    "6.643192\n",
    "]"
   ]
  },
  {
   "cell_type": "code",
   "execution_count": 126,
   "metadata": {},
   "outputs": [],
   "source": [
    "ulist2 = [117.93817204301075, 117.93817204301075,117.93817204301075]"
   ]
  },
  {
   "cell_type": "code",
   "execution_count": 127,
   "metadata": {},
   "outputs": [
    {
     "data": {
      "text/plain": [
       "<matplotlib.collections.PathCollection at 0x2918e385708>"
      ]
     },
     "execution_count": 127,
     "metadata": {},
     "output_type": "execute_result"
    },
    {
     "data": {
      "image/png": "[encoded data removed]",
      "text/plain": [
       "<Figure size 432x288 with 1 Axes>"
      ]
     },
     "metadata": {
      "needs_background": "light"
     },
     "output_type": "display_data"
    }
   ],
   "source": [
    "plt.scatter(ulist, ulist2)"
   ]
  },
  {
   "cell_type": "code",
   "execution_count": 136,
   "metadata": {},
   "outputs": [
    {
     "data": {
      "image/png": "[encoded data removed]",
      "text/plain": [
       "<Figure size 432x288 with 1 Axes>"
      ]
     },
     "metadata": {
      "needs_background": "light"
     },
     "output_type": "display_data"
    }
   ],
   "source": [
    "import matplotlib.pyplot as plt\n",
    "import numpy as np\n",
    "\n",
    "y = [(25.77,22.32,18.88,18.69,16.24,15.69,15.36,15.1,14.73,14.08,13.55,12.82,11.82,11.7,11.34,10.64,10.09,9.34,9.07,8.81,8.49,8.42,6.51),\n",
    "     (20.97,19.23,19.02,18.11,23.99,23.89,20.34,16.32,23.92,24.14,18.65,13.96,23.34,29.74,22.41,16.89,13.32,17.92,16.74,22.56,19.92,23.71,19.31,26.92\n",
    ",18.32,13.37,18.27,24.85,17.89,14.26,15.89,17.44,26.69,16.78,13.14,27.22,14.43,22.17,25.34,17.42), (18.51,14.49,12.79,12.29,12.27,11.54,8.75),(5.007624,3.898751,6.643192),\n",
    "    (22.78,22.08,22.62,14.02,22.51,21.44,18.72,20.77,21.63,22.43,22.91,31.29), (5.58,7.26,3.18,5.78,7.27,6.13,5.6,4.16,4.27,7.3,6.99,6.77,6.67,4.71,5)]\n",
    "x = [143.56045454545455,115.98042309265861,133.4055048543689,117.93817204301075,114.34552244464665,70.4748113626276]\n",
    "\n",
    "for xe, ye in zip(x, y):\n",
    "    plt.scatter([xe] * len(ye), ye)\n",
    "\n",
    "plt.xticks([143.56045454545455,115.98042309265861,133.4055048543689,117.93817204301075,114.34552244464665,70.4748113626276])\n",
    "ax.set_xticklabels('AQI', rotation=90)\n",
    "plt.scatter(kmeans3.cluster_centers_[:, 0], kmeans3.cluster_centers_[:, 0], c='black', marker='x')\n",
    "    \n",
    "plt.title('Data points and cluster centroids')\n",
    "plt.show()\n"
   ]
  },
  {
   "cell_type": "code",
   "execution_count": null,
   "metadata": {},
   "outputs": [],
   "source": []
  }
 ],
 "metadata": {
  "kernelspec": {
   "display_name": "Python 3",
   "language": "python",
   "name": "python3"
  },
  "language_info": {
   "codemirror_mode": {
    "name": "ipython",
    "version": 3
   },
   "file_extension": ".py",
   "mimetype": "text/x-python",
   "name": "python",
   "nbconvert_exporter": "python",
   "pygments_lexer": "ipython3",
   "version": "3.7.3"
  }
 },
 "nbformat": 4,
 "nbformat_minor": 2
}
