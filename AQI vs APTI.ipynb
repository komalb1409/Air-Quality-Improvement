{
 "cells": [
  {
   "cell_type": "code",
   "execution_count": 2,
   "metadata": {},
   "outputs": [
    {
     "name": "stdout",
     "output_type": "stream",
     "text": [
      "[151, 268, 283, 292, 296, 290, 294, 299.77, 305.41, 324.44, 3280, 2932, 3152, 3081, 2964, 2912, 2869, 2939.0, 3003.0, 3167.0, 27536, 27634, 28665, 28632, 27958, 27361, 27910, 30850.0, 30952.0, 31194.0, 19188, 25532, 22336, 22625, 23173, 22783, 23073, 22574.0, 22781.0, 21769.0, 16706, 17480, 18227, 20040, 19251, 18332, 18741, 22190.0, 23280.0, 24080.0, 21291, 21833, 22330, 22133, 21610, 21500, 21022, 21505.0, 22121.0, 22148.0, 13957, 14074, 14682, 15357, 15126, 14678, 14557, 18916.0, 18983.0, 18908.0, 55751, 56185, 56454, 59872, 58223, 55944, 56618, 60186.0, 60513.0, 61584.0]\n"
     ]
    }
   ],
   "source": [
    "import pandas as pd\n",
    "\n",
    "years = ['2001','2003','2005','2007','2009','2011','2013','2015','2017','2019']\n",
    "states = ['Delhi', 'Haryana', 'Tamil Nadu', 'Gujarat', 'Kerala', 'Uttar Pradesh', 'West Bengal', 'Maharashtra']\n",
    "df = pd.read_csv(\"Total Tree Cover.csv\")\n",
    "l = []\n",
    "for state in states:\n",
    "    for year in years:\n",
    "        l.append(df[year].loc[df['States']==state].item())\n",
    "print(l)"
   ]
  },
  {
   "cell_type": "code",
   "execution_count": 3,
   "metadata": {},
   "outputs": [
    {
     "name": "stdout",
     "output_type": "stream",
     "text": [
      "[275069, 155707, 240928, 342239, 130058, 307713, 88752, 1483]\n"
     ]
    }
   ],
   "source": [
    "aqis = [143.56,115.98,133.40,117.93,114.34,70.47,387.27,200.54]\n",
    "tree = [52234,52856,21500,23710,60186,30850,18950,302]\n",
    "states = [\"Andhra Pradesh\",\"Orissa\",\"Uttar Pradesh\",\"Rajasthan\",\"Tamil Nadu\",\"Maharashtra\",\"West Bengal\",\"Delhi\"]\n",
    "ga = pd.read_csv(\"forest_cover.csv\")\n",
    "g = []\n",
    "for state in states:\n",
    "    a = ga[\"Geographical Area_1-13\"].loc[ga['State/UT']==state].item()\n",
    "    g.append(int(a.replace(',','')))\n",
    "print(g)"
   ]
  },
  {
   "cell_type": "code",
   "execution_count": 4,
   "metadata": {},
   "outputs": [
    {
     "name": "stdout",
     "output_type": "stream",
     "text": [
      "[18.989417200775076, 33.94580847360748, 8.9238278655864, 6.927907105852928, 46.276276738070706, 10.025575780028793, 21.351631512529295, 20.364126770060686]\n"
     ]
    }
   ],
   "source": [
    "ratio = []\n",
    "for i in range(len(g)):\n",
    "    ratio.append((tree[i]/g[i])*100)\n",
    "print(ratio)"
   ]
  },
  {
   "cell_type": "code",
   "execution_count": 5,
   "metadata": {},
   "outputs": [
    {
     "name": "stdout",
     "output_type": "stream",
     "text": [
      "[13.454782608695648, 19.97, 11.469999999999999, 5.183189, 5.7780000000000005, 21.933333333333337, 47.59, 12.723809523809523]\n"
     ]
    }
   ],
   "source": [
    "# Assuming 50000 trees per km^2\n",
    "ap = pd.read_csv(\"APTI_Values.csv\")\n",
    "aptis = []\n",
    "for state in states:\n",
    "    apti = ap['APTI'].loc[ap['Area Found ']==state].values\n",
    "    aptis.append(sum(apti)/len(apti))\n",
    "print(aptis)"
   ]
  },
  {
   "cell_type": "code",
   "execution_count": 7,
   "metadata": {},
   "outputs": [
    {
     "name": "stdout",
     "output_type": "stream",
     "text": [
      "[127749.24015112726, 338948.8976089707, 51178.152809137995, 17954.325952039366, 133692.16349628626, 109947.14772098245, 508062.07184063457, 129554.63507048131]\n"
     ]
    }
   ],
   "source": [
    "values = []\n",
    "for i in range(len(tree)):\n",
    "    values.append((tree[i]*50000*aptis[i])/g[i])\n",
    "print(values)"
   ]
  },
  {
   "cell_type": "code",
   "execution_count": 8,
   "metadata": {},
   "outputs": [
    {
     "name": "stdout",
     "output_type": "stream",
     "text": [
      "0.7901765228495925\n"
     ]
    }
   ],
   "source": [
    "#Correlation in mean aqi and mean aptis\n",
    "from scipy.stats import pearsonr\n",
    "corr1,_ = pearsonr(aqis,aptis)\n",
    "print(corr1)"
   ]
  },
  {
   "cell_type": "code",
   "execution_count": 9,
   "metadata": {},
   "outputs": [
    {
     "name": "stdout",
     "output_type": "stream",
     "text": [
      "0.7514628614677439\n"
     ]
    }
   ],
   "source": [
    "corr2,_ = pearsonr(aqis,values)\n",
    "print(corr2)"
   ]
  },
  {
   "cell_type": "code",
   "execution_count": 19,
   "metadata": {},
   "outputs": [
    {
     "data": {
      "image/png": "[encoded data removed]",
      "text/plain": [
       "<Figure size 432x288 with 1 Axes>"
      ]
     },
     "metadata": {
      "needs_background": "light"
     },
     "output_type": "display_data"
    }
   ],
   "source": [
    "import matplotlib.pyplot as plt\n",
    "\n",
    "fig, ax = plt.subplots()\n",
    "ax.scatter(aqis,aptis, s = 1000,color = 'blue',alpha = 0.3)\n",
    "ax.set(xlabel='Average AQI' ,ylabel='Average APTI')\n",
    "plt.show()"
   ]
  },
  {
   "cell_type": "code",
   "execution_count": null,
   "metadata": {},
   "outputs": [],
   "source": []
  }
 ],
 "metadata": {
  "kernelspec": {
   "display_name": "Python 3",
   "language": "python",
   "name": "python3"
  },
  "language_info": {
   "codemirror_mode": {
    "name": "ipython",
    "version": 3
   },
   "file_extension": ".py",
   "mimetype": "text/x-python",
   "name": "python",
   "nbconvert_exporter": "python",
   "pygments_lexer": "ipython3",
   "version": "3.7.1"
  }
 },
 "nbformat": 4,
 "nbformat_minor": 2
}
