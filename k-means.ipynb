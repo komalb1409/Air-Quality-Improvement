{
 "cells": [
  {
   "cell_type": "code",
   "execution_count": 64,
   "metadata": {},
   "outputs": [
    {
     "name": "stdout",
     "output_type": "stream",
     "text": [
      "['Punjab', 'Rajasthan', 'Madhya Pradesh', 'Bihar', 'Maharashtra', 'Puducherry', 'Uttar Pradesh', 'Assam', 'Chandigarh', 'Karnataka', 'Chhattisgarh', 'Daman & Diu', 'Jharkhand', 'Haryana', 'Delhi', 'Tamil Nadu', 'Nagaland', 'Dadra & Nagar Haveli', 'Kerala', 'Gujarat', 'Odisha', 'Andhra Pradesh', 'Goa', 'Jammu & Kashmir', 'Himachal Pradesh', 'Meghalaya', 'Uttarakhand', 'Manipur', 'Arunachal Pradesh', 'Mizoram', 'West Bengal']\n"
     ]
    },
    {
     "name": "stderr",
     "output_type": "stream",
     "text": [
      "C:\\ProgramData\\Anaconda3\\lib\\site-packages\\IPython\\core\\interactiveshell.py:3049: DtypeWarning: Columns (0) have mixed types.Specify dtype option on import or set low_memory=False.\n",
      "  interactivity=interactivity, compiler=compiler, result=result)\n"
     ]
    }
   ],
   "source": [
    "import pandas as pd\n",
    "air = pd.read_csv(\"india-air-quality-data2.csv\",encoding='cp1252')\n",
    "s = air['state']\n",
    "s = list(s)\n",
    "s = list(set(s))\n",
    "s.remove('Telangana')\n",
    "s.remove('Uttaranchal')\n",
    "print(s)"
   ]
  },
  {
   "cell_type": "code",
   "execution_count": 65,
   "metadata": {},
   "outputs": [
    {
     "name": "stdout",
     "output_type": "stream",
     "text": [
      "Punjab 2001\n",
      "Rajasthan 2001\n",
      "Madhya Pradesh 2001\n",
      "Bihar 2001\n",
      "Maharashtra 2001\n",
      "Puducherry 2001\n",
      "Uttar Pradesh 2001\n",
      "Assam 2001\n",
      "Karnataka 2001\n",
      "Chhattisgarh 2001\n",
      "Haryana 2001\n",
      "Delhi 2001\n",
      "Tamil Nadu 2001\n",
      "Kerala 2001\n",
      "Gujarat 2001\n",
      "Odisha 2001\n",
      "Andhra Pradesh 2001\n",
      "West Bengal 2001\n",
      "[188.1127049180328, 214.0970744680851, 136.19444444444446, 222.31944444444446, 180.14449541284404, 80.20238095238095, 236.98406862745097, 115.10416666666667, 122.3975, 78.3125, 202.78472222222223, 247.26546391752578, 92.38254310344827, 113.23019801980197, 241.34722222222223, 113.03044871794872, 120.27857142857142, 193.85597826086956]\n"
     ]
    }
   ],
   "source": [
    "aqs = []\n",
    "st_av = []\n",
    "y_av = []\n",
    "air['date'] = pd.to_datetime(air['date'])\n",
    "for st in s:\n",
    "    for y in [2001]:\n",
    "        aq = air['AQI'].loc[(air['date'].dt.year == y) & (air['state']==st)]\n",
    "        aq = list(aq)\n",
    "        if len(aq) != 0:\n",
    "            avg_aq = sum(aq)/len(aq)\n",
    "            aqs.append(avg_aq)\n",
    "            st_av.append(st)\n",
    "            y_av.append(str(y))\n",
    "            print(st,y)\n",
    "print(aqs)"
   ]
  },
  {
   "cell_type": "code",
   "execution_count": 66,
   "metadata": {},
   "outputs": [
    {
     "name": "stdout",
     "output_type": "stream",
     "text": [
      "Punjab 2001\n",
      "Rajasthan 2001\n",
      "Madhya Pradesh 2001\n",
      "Bihar 2001\n",
      "Maharashtra 2001\n",
      "Puducherry 2001\n",
      "Uttar Pradesh 2001\n",
      "Assam 2001\n",
      "Karnataka 2001\n",
      "Chhattisgarh 2001\n",
      "Haryana 2001\n",
      "Delhi 2001\n",
      "Tamil Nadu 2001\n",
      "Kerala 2001\n",
      "Gujarat 2001\n",
      "Odisha 2001\n",
      "Andhra Pradesh 2001\n",
      "West Bengal 2001\n",
      "[4066, 21653, 83016, 9413, 55751, 71, 21291, 29656, 44437, 59983, 3280, 151, 27536, 16706, 19188, 53202, 53648, 13957]\n"
     ]
    }
   ],
   "source": [
    "trees = []\n",
    "ttc = pd.read_csv(\"Total Tree Cover.csv\")\n",
    "for i in range(len(st_av)):\n",
    "    t = ttc[y_av[i]].loc[ttc['States'] == st_av[i]].item()\n",
    "    trees.append(t)\n",
    "    print(st_av[i],y_av[i])\n",
    "print(trees)"
   ]
  },
  {
   "cell_type": "code",
   "execution_count": 67,
   "metadata": {},
   "outputs": [
    {
     "data": {
      "text/plain": [
       "KMeans(algorithm='auto', copy_x=True, init='k-means++', max_iter=300,\n",
       "    n_clusters=3, n_init=10, n_jobs=None, precompute_distances='auto',\n",
       "    random_state=None, tol=0.0001, verbose=0)"
      ]
     },
     "execution_count": 67,
     "metadata": {},
     "output_type": "execute_result"
    }
   ],
   "source": [
    "X = tuple(zip(aqs,trees))\n",
    "from sklearn.cluster import KMeans\n",
    "Kmean = KMeans(n_clusters=3)\n",
    "Kmean.fit(X)"
   ]
  },
  {
   "cell_type": "code",
   "execution_count": 68,
   "metadata": {},
   "outputs": [
    {
     "data": {
      "text/plain": [
       "array([[  188.13694329,  3396.2       ],\n",
       "       [  125.05966   , 58339.5       ],\n",
       "       [  172.4287502 , 21426.71428571]])"
      ]
     },
     "execution_count": 68,
     "metadata": {},
     "output_type": "execute_result"
    }
   ],
   "source": [
    "Kmean.cluster_centers_"
   ]
  },
  {
   "cell_type": "code",
   "execution_count": 69,
   "metadata": {},
   "outputs": [
    {
     "data": {
      "image/png": "[encoded data removed]",
      "text/plain": [
       "<Figure size 432x288 with 1 Axes>"
      ]
     },
     "metadata": {
      "needs_background": "light"
     },
     "output_type": "display_data"
    }
   ],
   "source": [
    "import matplotlib.pyplot as plt\n",
    "plt.scatter(aqs,trees, c=Kmean.labels_.astype(float))\n",
    "plt.scatter(172.4287502 , 21426.71428571, s=200, c='black', marker='x')\n",
    "plt.scatter(125.05966   , 58339.5, s=200, c='black', marker='x')\n",
    "plt.scatter(188.13694329,  3396.2, s=200, c='black', marker='x')\n",
    "plt.xlabel('AQI')\n",
    "plt.ylabel('Green Cover')\n",
    "plt.show()"
   ]
  },
  {
   "cell_type": "code",
   "execution_count": 57,
   "metadata": {},
   "outputs": [
    {
     "name": "stdout",
     "output_type": "stream",
     "text": [
      "Punjab 2015\n",
      "Rajasthan 2015\n",
      "Madhya Pradesh 2015\n",
      "Maharashtra 2015\n",
      "Puducherry 2015\n",
      "Uttar Pradesh 2015\n",
      "Assam 2015\n",
      "Chandigarh 2015\n",
      "Karnataka 2015\n",
      "Chhattisgarh 2015\n",
      "Daman & Diu 2015\n",
      "Jharkhand 2015\n",
      "Haryana 2015\n",
      "Delhi 2015\n",
      "Tamil Nadu 2015\n",
      "Nagaland 2015\n",
      "Dadra & Nagar Haveli 2015\n",
      "Kerala 2015\n",
      "Gujarat 2015\n",
      "Odisha 2015\n",
      "Andhra Pradesh 2015\n",
      "Goa 2015\n",
      "Jammu & Kashmir 2015\n",
      "Himachal Pradesh 2015\n",
      "Meghalaya 2015\n",
      "Uttarakhand 2015\n",
      "Arunachal Pradesh 2015\n",
      "Mizoram 2015\n",
      "West Bengal 2015\n",
      "[103.59768073547848, 126.09006499535748, 90.89779043913285, 114.34552244464665, 42.610834990059644, 137.22567384546252, 73.59005328596803, 77.02187079407807, 73.3295474547194, 96.88113006396588, 90.79545454545455, 151.92956852791878, 151.1590909090909, 200.5642954856361, 70.4748113626276, 64.90954773869346, 97.82558139534883, 45.73694779116466, 87.56018518518519, 72.4291910535117, 71.15091049980627, 45.008715862870424, 87.8861111111111, 58.97938806875763, 48.092523364485984, 147.50501672240802, 56.03658536585366, 30.870791628753413, 119.86306886830447]\n"
     ]
    }
   ],
   "source": [
    "aqs = []\n",
    "st_av = []\n",
    "y_av = []\n",
    "air['date'] = pd.to_datetime(air['date'])\n",
    "for st in s:\n",
    "    for y in [2015]:\n",
    "        aq = air['AQI'].loc[(air['date'].dt.year == y) & (air['state']==st)]\n",
    "        aq = list(aq)\n",
    "        if len(aq) != 0:\n",
    "            avg_aq = sum(aq)/len(aq)\n",
    "            aqs.append(avg_aq)\n",
    "            st_av.append(st)\n",
    "            y_av.append(str(y))\n",
    "            print(st,y)\n",
    "print(aqs)"
   ]
  },
  {
   "cell_type": "code",
   "execution_count": 58,
   "metadata": {},
   "outputs": [
    {
     "name": "stdout",
     "output_type": "stream",
     "text": [
      "Punjab 2015\n",
      "Rajasthan 2015\n",
      "Madhya Pradesh 2015\n",
      "Maharashtra 2015\n",
      "Puducherry 2015\n",
      "Uttar Pradesh 2015\n",
      "Assam 2015\n",
      "Chandigarh 2015\n",
      "Karnataka 2015\n",
      "Chhattisgarh 2015\n",
      "Daman & Diu 2015\n",
      "Jharkhand 2015\n",
      "Haryana 2015\n",
      "Delhi 2015\n",
      "Tamil Nadu 2015\n",
      "Nagaland 2015\n",
      "Dadra & Nagar Haveli 2015\n",
      "Kerala 2015\n",
      "Gujarat 2015\n",
      "Odisha 2015\n",
      "Andhra Pradesh 2015\n",
      "Goa 2015\n",
      "Jammu & Kashmir 2015\n",
      "Himachal Pradesh 2015\n",
      "Meghalaya 2015\n",
      "Uttarakhand 2015\n",
      "Arunachal Pradesh 2015\n",
      "Mizoram 2015\n",
      "West Bengal 2015\n",
      "[3315.0, 24440.0, 85235.0, 60186.0, 82.38, 21505.0, 29236.0, 31.03, 41973.0, 59215.0, 29.61, 26261.0, 2939.0, 299.77, 30850.0, 13347.0, 234.0, 22190.0, 22574.0, 54340.0, 28389.0, 2549.0, 31342.0, 15453.0, 17927.0, 24992.0, 68009.0, 19283.0, 18916.0]\n"
     ]
    }
   ],
   "source": [
    "trees = []\n",
    "ttc = pd.read_csv(\"Total Tree Cover.csv\")\n",
    "for i in range(len(st_av)):\n",
    "    t = ttc[y_av[i]].loc[ttc['States'] == st_av[i]].item()\n",
    "    trees.append(t)\n",
    "    print(st_av[i],y_av[i])\n",
    "print(trees)"
   ]
  },
  {
   "cell_type": "code",
   "execution_count": 59,
   "metadata": {},
   "outputs": [
    {
     "data": {
      "text/plain": [
       "KMeans(algorithm='auto', copy_x=True, init='k-means++', max_iter=300,\n",
       "    n_clusters=3, n_init=10, n_jobs=None, precompute_distances='auto',\n",
       "    random_state=None, tol=0.0001, verbose=0)"
      ]
     },
     "execution_count": 59,
     "metadata": {},
     "output_type": "execute_result"
    }
   ],
   "source": [
    "X = tuple(zip(aqs,trees))\n",
    "from sklearn.cluster import KMeans\n",
    "Kmean = KMeans(n_clusters=3)\n",
    "Kmean.fit(X)"
   ]
  },
  {
   "cell_type": "code",
   "execution_count": 60,
   "metadata": {},
   "outputs": [
    {
     "data": {
      "text/plain": [
       "array([[  101.07294059,  1184.97375   ],\n",
       "       [   86.11804387, 65397.        ],\n",
       "       [   87.19963815, 24292.375     ]])"
      ]
     },
     "execution_count": 60,
     "metadata": {},
     "output_type": "execute_result"
    }
   ],
   "source": [
    "Kmean.cluster_centers_"
   ]
  },
  {
   "cell_type": "code",
   "execution_count": 62,
   "metadata": {},
   "outputs": [
    {
     "data": {
      "image/png": "[encoded data removed]",
      "text/plain": [
       "<Figure size 432x288 with 1 Axes>"
      ]
     },
     "metadata": {
      "needs_background": "light"
     },
     "output_type": "display_data"
    }
   ],
   "source": [
    "import matplotlib.pyplot as plt\n",
    "plt.scatter(aqs, trees, c=Kmean.labels_.astype(float))\n",
    "plt.scatter(101.07294059,  1184.97375, s=200, c='black', marker='x')\n",
    "plt.scatter(86.11804387, 65397., s=200, c='black', marker='x')\n",
    "plt.scatter(87.19963815, 24292.375, s=200, c='black', marker='x')\n",
    "plt.xlabel('AQI')\n",
    "plt.ylabel('Green Cover')\n",
    "plt.show()"
   ]
  },
  {
   "cell_type": "code",
   "execution_count": 48,
   "metadata": {},
   "outputs": [
    {
     "data": {
      "image/png": "[encoded data removed]",
      "text/plain": [
       "<Figure size 432x288 with 1 Axes>"
      ]
     },
     "metadata": {
      "needs_background": "light"
     },
     "output_type": "display_data"
    }
   ],
   "source": [
    "Error =[]\n",
    "for i in range(1, 11):\n",
    "    kmeans = KMeans(n_clusters = i).fit(X)\n",
    "    kmeans.fit(X)\n",
    "    Error.append(kmeans.inertia_)\n",
    "import matplotlib.pyplot as plt\n",
    "plt.plot(range(1, 11), Error)\n",
    "plt.xlabel('No of clusters')\n",
    "plt.ylabel('Error')\n",
    "plt.show()"
   ]
  },
  {
   "cell_type": "code",
   "execution_count": null,
   "metadata": {},
   "outputs": [],
   "source": []
  }
 ],
 "metadata": {
  "kernelspec": {
   "display_name": "Python 3",
   "language": "python",
   "name": "python3"
  },
  "language_info": {
   "codemirror_mode": {
    "name": "ipython",
    "version": 3
   },
   "file_extension": ".py",
   "mimetype": "text/x-python",
   "name": "python",
   "nbconvert_exporter": "python",
   "pygments_lexer": "ipython3",
   "version": "3.7.1"
  }
 },
 "nbformat": 4,
 "nbformat_minor": 2
}
