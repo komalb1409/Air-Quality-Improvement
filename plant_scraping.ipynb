{
 "cells": [
  {
   "cell_type": "code",
   "execution_count": 2,
   "metadata": {},
   "outputs": [],
   "source": [
    "import requests\n",
    "from bs4 import BeautifulSoup"
   ]
  },
  {
   "cell_type": "code",
   "execution_count": 3,
   "metadata": {},
   "outputs": [],
   "source": [
    "url = \"https://www.biodiversityofindia.org/index.php?title=List_of_plants_by_state\"\n",
    "r = requests.get(url)\n",
    "soup = BeautifulSoup(r.content,'html5lib')"
   ]
  },
  {
   "cell_type": "code",
   "execution_count": 43,
   "metadata": {
    "scrolled": true
   },
   "outputs": [
    {
     "name": "stdout",
     "output_type": "stream",
     "text": [
      "['/index.php?title=Acacia_concinna', '/index.php?title=Marsilea_brachycarpa', '/index.php?title=Ceratopteris_pteridoides', '/index.php?title=Curcuma_longa', '/index.php?title=Justicia_procumbens', '/index.php?title=Cedrus_deodara', '/index.php?title=Marsilea_brachypus', '/index.php?title=Ensete_superbum', '/index.php?title=Glycyrrhiza_glabra', '/index.php?title=Acrostichum_aureum', '/index.php?title=Marsilea_maheshwari', '/index.php?title=Mimusops_elengi', '/index.php?title=Aconitum_palmatum', '/index.php?title=Nelumbo_nucifera', '/index.php?title=Crocus_sativus', '/index.php?title=Alpinia_abundiflora', '/index.php?title=Azadirachta_indica', '/index.php?title=Hiptage_benghalensis', '/index.php?title=Achillea_millefolium', '/index.php?title=Mangifera_indica', '/index.php?title=Catharanthus_roseus', '/index.php?title=Calotropis_procera', '/index.php?title=Artocarpus_heterophyllus', '/index.php?title=Jasminum_officinale', '/index.php?title=Murraya_exotica', '/index.php?title=Marsilea_minuta', '/index.php?title=Marsilea_coromandelina', '/index.php?title=Andrographis_paniculata', '/index.php?title=Microsorum_pteropus', '/index.php?title=Isoetes_coromandelina', '/index.php?title=Marsilea_gracilenta', '/index.php?title=Alpinia_allughas', '/index.php?title=Adansonia_digitata', '/index.php?title=Madhuca_longifolia', '/index.php?title=Alpinia_calcarata', '/index.php?title=Cocos_nucifera', '/index.php?title=Mesua_ferrea', '/index.php?title=Ceratopteris_thalictroides', '/index.php?title=Azolla_pinnata', '/index.php?title=Ipomoea_digitata', '/index.php?title=Elettaria_cardamomum', '/index.php?title=Garcinia_cambogia']\n"
     ]
    }
   ],
   "source": [
    "hrefs = []\n",
    "n_hrefs= []\n",
    "for link in soup.findAll(lambda tag: tag.name == 'td' and tag.get('class') == ['smwtype_wpg']):\n",
    "    for a in link.findAll(\"a\"):\n",
    "        hrefs.append(a.get(\"href\"))\n",
    "n_hrefs = [h for h in hrefs if not h.__contains__('Crocidura')] \n",
    "n_hrefs = list(set(n_hrefs))\n",
    "print(n_hrefs)"
   ]
  },
  {
   "cell_type": "code",
   "execution_count": 44,
   "metadata": {},
   "outputs": [
    {
     "name": "stdout",
     "output_type": "stream",
     "text": [
      "['https://www.biodiversityofindia.org/index.php?title=Acacia_concinna', 'https://www.biodiversityofindia.org/index.php?title=Marsilea_brachycarpa', 'https://www.biodiversityofindia.org/index.php?title=Ceratopteris_pteridoides', 'https://www.biodiversityofindia.org/index.php?title=Curcuma_longa', 'https://www.biodiversityofindia.org/index.php?title=Justicia_procumbens', 'https://www.biodiversityofindia.org/index.php?title=Cedrus_deodara', 'https://www.biodiversityofindia.org/index.php?title=Marsilea_brachypus', 'https://www.biodiversityofindia.org/index.php?title=Ensete_superbum', 'https://www.biodiversityofindia.org/index.php?title=Glycyrrhiza_glabra', 'https://www.biodiversityofindia.org/index.php?title=Acrostichum_aureum', 'https://www.biodiversityofindia.org/index.php?title=Marsilea_maheshwari', 'https://www.biodiversityofindia.org/index.php?title=Mimusops_elengi', 'https://www.biodiversityofindia.org/index.php?title=Aconitum_palmatum', 'https://www.biodiversityofindia.org/index.php?title=Nelumbo_nucifera', 'https://www.biodiversityofindia.org/index.php?title=Crocus_sativus', 'https://www.biodiversityofindia.org/index.php?title=Alpinia_abundiflora', 'https://www.biodiversityofindia.org/index.php?title=Azadirachta_indica', 'https://www.biodiversityofindia.org/index.php?title=Hiptage_benghalensis', 'https://www.biodiversityofindia.org/index.php?title=Achillea_millefolium', 'https://www.biodiversityofindia.org/index.php?title=Mangifera_indica', 'https://www.biodiversityofindia.org/index.php?title=Catharanthus_roseus', 'https://www.biodiversityofindia.org/index.php?title=Calotropis_procera', 'https://www.biodiversityofindia.org/index.php?title=Artocarpus_heterophyllus', 'https://www.biodiversityofindia.org/index.php?title=Jasminum_officinale', 'https://www.biodiversityofindia.org/index.php?title=Murraya_exotica', 'https://www.biodiversityofindia.org/index.php?title=Marsilea_minuta', 'https://www.biodiversityofindia.org/index.php?title=Marsilea_coromandelina', 'https://www.biodiversityofindia.org/index.php?title=Andrographis_paniculata', 'https://www.biodiversityofindia.org/index.php?title=Microsorum_pteropus', 'https://www.biodiversityofindia.org/index.php?title=Isoetes_coromandelina', 'https://www.biodiversityofindia.org/index.php?title=Marsilea_gracilenta', 'https://www.biodiversityofindia.org/index.php?title=Alpinia_allughas', 'https://www.biodiversityofindia.org/index.php?title=Adansonia_digitata', 'https://www.biodiversityofindia.org/index.php?title=Madhuca_longifolia', 'https://www.biodiversityofindia.org/index.php?title=Alpinia_calcarata', 'https://www.biodiversityofindia.org/index.php?title=Cocos_nucifera', 'https://www.biodiversityofindia.org/index.php?title=Mesua_ferrea', 'https://www.biodiversityofindia.org/index.php?title=Ceratopteris_thalictroides', 'https://www.biodiversityofindia.org/index.php?title=Azolla_pinnata', 'https://www.biodiversityofindia.org/index.php?title=Ipomoea_digitata', 'https://www.biodiversityofindia.org/index.php?title=Elettaria_cardamomum', 'https://www.biodiversityofindia.org/index.php?title=Garcinia_cambogia']\n"
     ]
    }
   ],
   "source": [
    "new_links = []\n",
    "for link in n_hrefs:\n",
    "    new_links.append('https://www.biodiversityofindia.org'+link)\n",
    "print(new_links)"
   ]
  },
  {
   "cell_type": "code",
   "execution_count": 46,
   "metadata": {
    "scrolled": true
   },
   "outputs": [],
   "source": [
    "import csv\n",
    "f = csv.writer(open('Species_details.csv', 'w', newline = '', encoding = 'utf-8'))\n",
    "f.writerow(['Species','Common English Name','Common Hindi Name','States Found in'])\n",
    "\n",
    "for link in new_links:\n",
    "    soup = BeautifulSoup(requests.get(link).text)\n",
    "    s = soup.title.text\n",
    "    species = s.replace(' - Biodiversity of India: A Wiki Resource for Indian Biodiversity','').strip()\n",
    "    division = soup.find(\"div\", attrs = {\"class\" : \"section-1\", \"id\" : \"Species_identity_and_nomenclature\"})\n",
    "    table = division.find(\"table\", attrs = {\"class\" : \"wikitable\"})\n",
    "    row = table.findChildren(\"tr\")\n",
    "    e_name = row[7].find(\"td\").text.strip()\n",
    "    h_name = row[8].find(\"td\").text.strip()\n",
    "    division = soup.find(\"div\", attrs = {\"class\" : \"section-12 unselected\", \"id\" : \"Habitat_and_Geographical_Spread\"})\n",
    "    table = division.find(\"table\", attrs = {\"class\" : \"wikitable\"})\n",
    "    row = table.findChildren(\"tr\")\n",
    "    states = row[2].find(\"td\").text.strip()\n",
    "    f.writerow([species, e_name, h_name, states])       "
   ]
  },
  {
   "cell_type": "code",
   "execution_count": null,
   "metadata": {},
   "outputs": [],
   "source": []
  }
 ],
 "metadata": {
  "kernelspec": {
   "display_name": "Python 3",
   "language": "python",
   "name": "python3"
  },
  "language_info": {
   "codemirror_mode": {
    "name": "ipython",
    "version": 3
   },
   "file_extension": ".py",
   "mimetype": "text/x-python",
   "name": "python",
   "nbconvert_exporter": "python",
   "pygments_lexer": "ipython3",
   "version": "3.7.1"
  }
 },
 "nbformat": 4,
 "nbformat_minor": 2
}
