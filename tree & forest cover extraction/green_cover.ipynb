{
 "cells": [
  {
   "cell_type": "code",
   "execution_count": 22,
   "metadata": {},
   "outputs": [],
   "source": [
    "import pandas as pd\n",
    "import csv\n",
    "import requests\n",
    "from bs4 import BeautifulSoup\n",
    "import numpy as np"
   ]
  },
  {
   "cell_type": "code",
   "execution_count": 25,
   "metadata": {},
   "outputs": [],
   "source": [
    "f1 = pd.read_csv('forest_cover.csv')"
   ]
  },
  {
   "cell_type": "code",
   "execution_count": 26,
   "metadata": {},
   "outputs": [],
   "source": [
    "t1 = pd.read_csv('tree_cover.csv')"
   ]
  },
  {
   "cell_type": "code",
   "execution_count": 27,
   "metadata": {},
   "outputs": [],
   "source": [
    "t2 = t1.drop([37])"
   ]
  },
  {
   "cell_type": "code",
   "execution_count": 28,
   "metadata": {},
   "outputs": [],
   "source": [
    "t3 = t2.drop(['State/UT'], axis = 1)"
   ]
  },
  {
   "cell_type": "code",
   "execution_count": 29,
   "metadata": {},
   "outputs": [
    {
     "data": {
      "text/html": [
       "<div>\n",
       "<style scoped>\n",
       "    .dataframe tbody tr th:only-of-type {\n",
       "        vertical-align: middle;\n",
       "    }\n",
       "\n",
       "    .dataframe tbody tr th {\n",
       "        vertical-align: top;\n",
       "    }\n",
       "\n",
       "    .dataframe thead th {\n",
       "        text-align: right;\n",
       "    }\n",
       "</style>\n",
       "<table border=\"1\" class=\"dataframe\">\n",
       "  <thead>\n",
       "    <tr style=\"text-align: right;\">\n",
       "      <th></th>\n",
       "      <th>Tree_Cover-2001</th>\n",
       "      <th>Tree_Cover-2003</th>\n",
       "      <th>Tree_Cover-2005</th>\n",
       "      <th>Tree_Cover-2009</th>\n",
       "      <th>Tree_Cover-2011</th>\n",
       "      <th>Tree_Cover-2013</th>\n",
       "      <th>Tree_Cover-2015</th>\n",
       "      <th>Tree_Cover-2017</th>\n",
       "      <th>Tree_Cover-2019</th>\n",
       "    </tr>\n",
       "  </thead>\n",
       "  <tbody>\n",
       "    <tr>\n",
       "      <th>0</th>\n",
       "      <td>9,011</td>\n",
       "      <td>12,120</td>\n",
       "      <td>7,640</td>\n",
       "      <td>7,191</td>\n",
       "      <td>7,152</td>\n",
       "      <td>7,187</td>\n",
       "      <td>3,965</td>\n",
       "      <td>3,753</td>\n",
       "      <td>3,914</td>\n",
       "    </tr>\n",
       "    <tr>\n",
       "      <th>1</th>\n",
       "      <td>478</td>\n",
       "      <td>363</td>\n",
       "      <td>446</td>\n",
       "      <td>592</td>\n",
       "      <td>549</td>\n",
       "      <td>660</td>\n",
       "      <td>761</td>\n",
       "      <td>807</td>\n",
       "      <td>848</td>\n",
       "    </tr>\n",
       "    <tr>\n",
       "      <th>2</th>\n",
       "      <td>1,942</td>\n",
       "      <td>935</td>\n",
       "      <td>1,484</td>\n",
       "      <td>1,590</td>\n",
       "      <td>1,564</td>\n",
       "      <td>1,582</td>\n",
       "      <td>1,613</td>\n",
       "      <td>1,496</td>\n",
       "      <td>1,408</td>\n",
       "    </tr>\n",
       "    <tr>\n",
       "      <th>3</th>\n",
       "      <td>3,693</td>\n",
       "      <td>1,620</td>\n",
       "      <td>2,522</td>\n",
       "      <td>2,495</td>\n",
       "      <td>2,369</td>\n",
       "      <td>2,164</td>\n",
       "      <td>2,182</td>\n",
       "      <td>2,263</td>\n",
       "      <td>2,003</td>\n",
       "    </tr>\n",
       "    <tr>\n",
       "      <th>4</th>\n",
       "      <td>3,535</td>\n",
       "      <td>6,723</td>\n",
       "      <td>4,492</td>\n",
       "      <td>4,027</td>\n",
       "      <td>3,866</td>\n",
       "      <td>3,463</td>\n",
       "      <td>3,629</td>\n",
       "      <td>3,833</td>\n",
       "      <td>4,248</td>\n",
       "    </tr>\n",
       "  </tbody>\n",
       "</table>\n",
       "</div>"
      ],
      "text/plain": [
       "  Tree_Cover-2001 Tree_Cover-2003 Tree_Cover-2005 Tree_Cover-2009  \\\n",
       "0           9,011          12,120           7,640           7,191   \n",
       "1             478             363             446             592   \n",
       "2           1,942             935           1,484           1,590   \n",
       "3           3,693           1,620           2,522           2,495   \n",
       "4           3,535           6,723           4,492           4,027   \n",
       "\n",
       "  Tree_Cover-2011 Tree_Cover-2013 Tree_Cover-2015 Tree_Cover-2017  \\\n",
       "0           7,152           7,187           3,965           3,753   \n",
       "1             549             660             761             807   \n",
       "2           1,564           1,582           1,613           1,496   \n",
       "3           2,369           2,164           2,182           2,263   \n",
       "4           3,866           3,463           3,629           3,833   \n",
       "\n",
       "  Tree_Cover-2019  \n",
       "0           3,914  \n",
       "1             848  \n",
       "2           1,408  \n",
       "3           2,003  \n",
       "4           4,248  "
      ]
     },
     "execution_count": 29,
     "metadata": {},
     "output_type": "execute_result"
    }
   ],
   "source": [
    "t3.head()"
   ]
  },
  {
   "cell_type": "code",
   "execution_count": 30,
   "metadata": {},
   "outputs": [],
   "source": [
    "g = pd.concat([f1, t3], axis=1, sort=False)"
   ]
  },
  {
   "cell_type": "code",
   "execution_count": 31,
   "metadata": {},
   "outputs": [],
   "source": [
    "g1 = g.drop([36])"
   ]
  },
  {
   "cell_type": "code",
   "execution_count": 32,
   "metadata": {},
   "outputs": [],
   "source": [
    "green_cover = pd.DataFrame(g1)\n",
    "cols = [0, 1, 2, 5, 9, 13, 17, 21, 25, 29, 33, 37, 38, 39, 40, 41, 42, 43, 44, 45, 46]\n",
    "green_cover = green_cover[green_cover.columns[cols]]"
   ]
  },
  {
   "cell_type": "code",
   "execution_count": 33,
   "metadata": {},
   "outputs": [],
   "source": [
    "green_cover.rename(columns={'Total-2001':'Forest_Cover-2001', 'Total-2003':'Forest_Cover-2003', 'Total-2005':'Forest_Cover-2005', \n",
    "            'Total-2007':'Forest_Cover-2007', 'Total-2011':'Forest_Cover-2011', 'Total-2013':'Forest_Cover-2013', \n",
    "            'Total-2015':'Forest_Cover-2015', 'Total-2017':'Forest_Cover-2017', 'Total-2019':'Forest_Cover-2019'}, \n",
    "           inplace=True)"
   ]
  },
  {
   "cell_type": "code",
   "execution_count": 34,
   "metadata": {},
   "outputs": [
    {
     "data": {
      "text/plain": [
       "State/UT                   object\n",
       "Geographical Area_1-13     object\n",
       "Geographical Area_15-19    object\n",
       "Forest_Cover-2001          object\n",
       "Forest_Cover-2003          object\n",
       "Forest_Cover-2005          object\n",
       "Forest_Cover-2007          object\n",
       "Forest_Cover-2011          object\n",
       "Forest_Cover-2013          object\n",
       "Forest_Cover-2015          object\n",
       "Forest_Cover-2017          object\n",
       "Forest_Cover-2019          object\n",
       "Tree_Cover-2001            object\n",
       "Tree_Cover-2003            object\n",
       "Tree_Cover-2005            object\n",
       "Tree_Cover-2009            object\n",
       "Tree_Cover-2011            object\n",
       "Tree_Cover-2013            object\n",
       "Tree_Cover-2015            object\n",
       "Tree_Cover-2017            object\n",
       "Tree_Cover-2019            object\n",
       "dtype: object"
      ]
     },
     "execution_count": 34,
     "metadata": {},
     "output_type": "execute_result"
    }
   ],
   "source": [
    "green_cover.dtypes"
   ]
  },
  {
   "cell_type": "code",
   "execution_count": 35,
   "metadata": {},
   "outputs": [],
   "source": [
    "for col in green_cover.iloc[:, 1:].columns: \n",
    "    green_cover[col] = green_cover[col].str.replace(\",\",\"\").astype(int)"
   ]
  },
  {
   "cell_type": "code",
   "execution_count": 36,
   "metadata": {},
   "outputs": [],
   "source": [
    "#Forest_Cover-2009--> index: 7 \n",
    "green_cover.insert(7, column='Forest_Cover-2009', value = [44902, 67853, 27792, 6004, 55903, 173, 2154, 14804, 1554, 14458, \n",
    "                                                           21986, 22794, 36330, 16324, 76900, 48650, 17256, 17021, 18940, \n",
    "                                                           13564, 48555, 1614, 15936, 3297, 22838, 0, 8083, 14241, 24480, \n",
    "                                                           12694, 6722, 16, 218, 7, 24, 42])"
   ]
  },
  {
   "cell_type": "code",
   "execution_count": 37,
   "metadata": {},
   "outputs": [],
   "source": [
    "#Tree_Cover-2007--> index: 16 \n",
    "green_cover.insert(16, column='Tree_Cover-2007', value = [7340, 516, 1554, 2512, 4292, 116, 277, 7921, 1485, 679, 6133, 3054, \n",
    "                                                          5567, 2732, 6667, 9178, 169, 475, 152, 268, 4518, 1723, 8376, 23, \n",
    "                                                          5221, 0, 157, 7803, 661, 2369, 48, 10, 28, 9, 4, 37])"
   ]
  },
  {
   "cell_type": "code",
   "execution_count": 38,
   "metadata": {},
   "outputs": [
    {
     "data": {
      "text/plain": [
       "State/UT                   object\n",
       "Geographical Area_1-13      int32\n",
       "Geographical Area_15-19     int32\n",
       "Forest_Cover-2001           int32\n",
       "Forest_Cover-2003           int32\n",
       "Forest_Cover-2005           int32\n",
       "Forest_Cover-2007           int32\n",
       "Forest_Cover-2009           int64\n",
       "Forest_Cover-2011           int32\n",
       "Forest_Cover-2013           int32\n",
       "Forest_Cover-2015           int32\n",
       "Forest_Cover-2017           int32\n",
       "Forest_Cover-2019           int32\n",
       "Tree_Cover-2001             int32\n",
       "Tree_Cover-2003             int32\n",
       "Tree_Cover-2005             int32\n",
       "Tree_Cover-2007             int64\n",
       "Tree_Cover-2009             int32\n",
       "Tree_Cover-2011             int32\n",
       "Tree_Cover-2013             int32\n",
       "Tree_Cover-2015             int32\n",
       "Tree_Cover-2017             int32\n",
       "Tree_Cover-2019             int32\n",
       "dtype: object"
      ]
     },
     "execution_count": 38,
     "metadata": {},
     "output_type": "execute_result"
    }
   ],
   "source": [
    "green_cover.dtypes"
   ]
  },
  {
   "cell_type": "code",
   "execution_count": 39,
   "metadata": {},
   "outputs": [],
   "source": [
    "green_cover.to_csv('green_cover.csv', na_rep='Null', float_format='%.2f', index=False, encoding='utf-8')#area in km2"
   ]
  },
  {
   "cell_type": "code",
   "execution_count": 48,
   "metadata": {},
   "outputs": [],
   "source": [
    "t = pd.DataFrame(green_cover)\n",
    "cols = [0, 2]\n",
    "t = t[t.columns[cols]]"
   ]
  },
  {
   "cell_type": "code",
   "execution_count": 52,
   "metadata": {},
   "outputs": [
    {
     "data": {
      "text/html": [
       "<div>\n",
       "<style scoped>\n",
       "    .dataframe tbody tr th:only-of-type {\n",
       "        vertical-align: middle;\n",
       "    }\n",
       "\n",
       "    .dataframe tbody tr th {\n",
       "        vertical-align: top;\n",
       "    }\n",
       "\n",
       "    .dataframe thead th {\n",
       "        text-align: right;\n",
       "    }\n",
       "</style>\n",
       "<table border=\"1\" class=\"dataframe\">\n",
       "  <thead>\n",
       "    <tr style=\"text-align: right;\">\n",
       "      <th></th>\n",
       "      <th>State/UT</th>\n",
       "      <th>Geographical Area</th>\n",
       "    </tr>\n",
       "  </thead>\n",
       "  <tbody>\n",
       "    <tr>\n",
       "      <th>0</th>\n",
       "      <td>Andhra Pradesh</td>\n",
       "      <td>160204</td>\n",
       "    </tr>\n",
       "    <tr>\n",
       "      <th>1</th>\n",
       "      <td>Arunachal Pradesh</td>\n",
       "      <td>83743</td>\n",
       "    </tr>\n",
       "    <tr>\n",
       "      <th>2</th>\n",
       "      <td>Assam</td>\n",
       "      <td>78438</td>\n",
       "    </tr>\n",
       "    <tr>\n",
       "      <th>3</th>\n",
       "      <td>Bihar</td>\n",
       "      <td>94163</td>\n",
       "    </tr>\n",
       "    <tr>\n",
       "      <th>4</th>\n",
       "      <td>Chhattisgarh</td>\n",
       "      <td>135191</td>\n",
       "    </tr>\n",
       "  </tbody>\n",
       "</table>\n",
       "</div>"
      ],
      "text/plain": [
       "            State/UT  Geographical Area\n",
       "0     Andhra Pradesh             160204\n",
       "1  Arunachal Pradesh              83743\n",
       "2              Assam              78438\n",
       "3              Bihar              94163\n",
       "4       Chhattisgarh             135191"
      ]
     },
     "execution_count": 52,
     "metadata": {},
     "output_type": "execute_result"
    }
   ],
   "source": [
    "t.rename(columns={'State/UT':'State/UT', 'Geographical Area_15-19':'Geographical Area'}, inplace=True)\n",
    "t.head()"
   ]
  },
  {
   "cell_type": "code",
   "execution_count": 55,
   "metadata": {},
   "outputs": [],
   "source": [
    "cover = green_cover['Forest_Cover-2001'] + green_cover['Tree_Cover-2001']\n",
    "t['2001'] = cover\n",
    "cover = green_cover['Forest_Cover-2003'] + green_cover['Tree_Cover-2003']\n",
    "t['2003'] = cover\n",
    "cover = green_cover['Forest_Cover-2005'] + green_cover['Tree_Cover-2005']\n",
    "t['2005'] = cover\n",
    "cover = green_cover['Forest_Cover-2007'] + green_cover['Tree_Cover-2007']\n",
    "t['2007'] = cover\n",
    "cover = green_cover['Forest_Cover-2009'] + green_cover['Tree_Cover-2009']\n",
    "t['2009'] = cover\n",
    "cover = green_cover['Forest_Cover-2011'] + green_cover['Tree_Cover-2011']\n",
    "t['2011'] = cover\n",
    "cover = green_cover['Forest_Cover-2013'] + green_cover['Tree_Cover-2013']\n",
    "t['2013'] = cover\n",
    "cover = green_cover['Forest_Cover-2015'] + green_cover['Tree_Cover-2015']\n",
    "t['2015'] = cover\n",
    "cover = green_cover['Forest_Cover-2017'] + green_cover['Tree_Cover-2017']\n",
    "t['2017'] = cover\n",
    "cover = green_cover['Forest_Cover-2019'] + green_cover['Tree_Cover-2019']\n",
    "t['2019'] = cover"
   ]
  },
  {
   "cell_type": "code",
   "execution_count": 56,
   "metadata": {},
   "outputs": [
    {
     "data": {
      "text/html": [
       "<div>\n",
       "<style scoped>\n",
       "    .dataframe tbody tr th:only-of-type {\n",
       "        vertical-align: middle;\n",
       "    }\n",
       "\n",
       "    .dataframe tbody tr th {\n",
       "        vertical-align: top;\n",
       "    }\n",
       "\n",
       "    .dataframe thead th {\n",
       "        text-align: right;\n",
       "    }\n",
       "</style>\n",
       "<table border=\"1\" class=\"dataframe\">\n",
       "  <thead>\n",
       "    <tr style=\"text-align: right;\">\n",
       "      <th></th>\n",
       "      <th>State/UT</th>\n",
       "      <th>Geographical Area</th>\n",
       "      <th>2001</th>\n",
       "      <th>2003</th>\n",
       "      <th>2005</th>\n",
       "      <th>2007</th>\n",
       "      <th>2009</th>\n",
       "      <th>2011</th>\n",
       "      <th>2013</th>\n",
       "      <th>2015</th>\n",
       "      <th>2017</th>\n",
       "      <th>2019</th>\n",
       "    </tr>\n",
       "  </thead>\n",
       "  <tbody>\n",
       "    <tr>\n",
       "      <th>0</th>\n",
       "      <td>Andhra Pradesh</td>\n",
       "      <td>160204</td>\n",
       "      <td>53648</td>\n",
       "      <td>56539</td>\n",
       "      <td>52012</td>\n",
       "      <td>52442</td>\n",
       "      <td>52093</td>\n",
       "      <td>51571</td>\n",
       "      <td>51559</td>\n",
       "      <td>28389</td>\n",
       "      <td>31900</td>\n",
       "      <td>33051</td>\n",
       "    </tr>\n",
       "    <tr>\n",
       "      <th>1</th>\n",
       "      <td>Arunachal Pradesh</td>\n",
       "      <td>83743</td>\n",
       "      <td>68523</td>\n",
       "      <td>68382</td>\n",
       "      <td>68223</td>\n",
       "      <td>67869</td>\n",
       "      <td>68445</td>\n",
       "      <td>68568</td>\n",
       "      <td>68437</td>\n",
       "      <td>68009</td>\n",
       "      <td>67771</td>\n",
       "      <td>67536</td>\n",
       "    </tr>\n",
       "    <tr>\n",
       "      <th>2</th>\n",
       "      <td>Assam</td>\n",
       "      <td>78438</td>\n",
       "      <td>29656</td>\n",
       "      <td>28761</td>\n",
       "      <td>29129</td>\n",
       "      <td>29246</td>\n",
       "      <td>29382</td>\n",
       "      <td>29390</td>\n",
       "      <td>29227</td>\n",
       "      <td>29236</td>\n",
       "      <td>29601</td>\n",
       "      <td>29735</td>\n",
       "    </tr>\n",
       "    <tr>\n",
       "      <th>3</th>\n",
       "      <td>Bihar</td>\n",
       "      <td>94163</td>\n",
       "      <td>9413</td>\n",
       "      <td>7178</td>\n",
       "      <td>8101</td>\n",
       "      <td>9316</td>\n",
       "      <td>8499</td>\n",
       "      <td>7927</td>\n",
       "      <td>7743</td>\n",
       "      <td>9470</td>\n",
       "      <td>9562</td>\n",
       "      <td>9309</td>\n",
       "    </tr>\n",
       "    <tr>\n",
       "      <th>4</th>\n",
       "      <td>Chhattisgarh</td>\n",
       "      <td>135191</td>\n",
       "      <td>59983</td>\n",
       "      <td>62721</td>\n",
       "      <td>60355</td>\n",
       "      <td>60162</td>\n",
       "      <td>59930</td>\n",
       "      <td>59864</td>\n",
       "      <td>59326</td>\n",
       "      <td>59215</td>\n",
       "      <td>59380</td>\n",
       "      <td>59859</td>\n",
       "    </tr>\n",
       "  </tbody>\n",
       "</table>\n",
       "</div>"
      ],
      "text/plain": [
       "            State/UT  Geographical Area   2001   2003   2005   2007   2009  \\\n",
       "0     Andhra Pradesh             160204  53648  56539  52012  52442  52093   \n",
       "1  Arunachal Pradesh              83743  68523  68382  68223  67869  68445   \n",
       "2              Assam              78438  29656  28761  29129  29246  29382   \n",
       "3              Bihar              94163   9413   7178   8101   9316   8499   \n",
       "4       Chhattisgarh             135191  59983  62721  60355  60162  59930   \n",
       "\n",
       "    2011   2013   2015   2017   2019  \n",
       "0  51571  51559  28389  31900  33051  \n",
       "1  68568  68437  68009  67771  67536  \n",
       "2  29390  29227  29236  29601  29735  \n",
       "3   7927   7743   9470   9562   9309  \n",
       "4  59864  59326  59215  59380  59859  "
      ]
     },
     "execution_count": 56,
     "metadata": {},
     "output_type": "execute_result"
    }
   ],
   "source": [
    "t.head()"
   ]
  },
  {
   "cell_type": "code",
   "execution_count": 58,
   "metadata": {},
   "outputs": [
    {
     "data": {
      "text/plain": [
       "State/UT             object\n",
       "Geographical Area     int32\n",
       "2001                  int32\n",
       "2003                  int32\n",
       "2005                  int32\n",
       "2007                  int64\n",
       "2009                  int64\n",
       "2011                  int32\n",
       "2013                  int32\n",
       "2015                  int32\n",
       "2017                  int32\n",
       "2019                  int32\n",
       "dtype: object"
      ]
     },
     "execution_count": 58,
     "metadata": {},
     "output_type": "execute_result"
    }
   ],
   "source": [
    "t.dtypes"
   ]
  },
  {
   "cell_type": "code",
   "execution_count": 57,
   "metadata": {},
   "outputs": [],
   "source": [
    "t.to_csv('Total_Green_Cover.csv', na_rep='Null', float_format='%.2f', index=False, encoding='utf-8')#area in km2"
   ]
  },
  {
   "cell_type": "code",
   "execution_count": null,
   "metadata": {},
   "outputs": [],
   "source": []
  }
 ],
 "metadata": {
  "kernelspec": {
   "display_name": "Python 3",
   "language": "python",
   "name": "python3"
  },
  "language_info": {
   "codemirror_mode": {
    "name": "ipython",
    "version": 3
   },
   "file_extension": ".py",
   "mimetype": "text/x-python",
   "name": "python",
   "nbconvert_exporter": "python",
   "pygments_lexer": "ipython3",
   "version": "3.7.3"
  }
 },
 "nbformat": 4,
 "nbformat_minor": 2
}
